{
  "nbformat": 4,
  "nbformat_minor": 0,
  "metadata": {
    "colab": {
      "provenance": []
    },
    "kernelspec": {
      "name": "python3",
      "display_name": "Python 3"
    },
    "language_info": {
      "name": "python"
    }
  },
  "cells": [
    {
      "cell_type": "markdown",
      "metadata": {
        "id": "view-in-github"
      },
      "source": [
        "<a href=\"https://colab.research.google.com/github/yuyunt7/ODL-Assignment/blob/main/Untitled4.ipynb\" target=\"_parent\"><img src=\"https://colab.research.google.com/assets/colab-badge.svg\" alt=\"Open In Colab\"/></a>"
      ]
    },
    {
      "cell_type": "code",
      "source": [
        "import numpy as np # linear algebra\n",
        "import pandas as pd # data processing, CSV file I/O (e.g. pd.read_csv)\n",
        "import matplotlib.pyplot as plt\n",
        "import matplotlib as mpl\n",
        "import seaborn as sns\n",
        "import matplotlib.colors\n",
        "import matplotlib.ticker as mtick\n",
        "\n",
        "# feature selection\n",
        "from sklearn.feature_selection import SelectKBest, mutual_info_classif, f_regression, f_classif, chi2\n",
        "\n",
        "# feature scaler\n",
        "from sklearn.preprocessing import StandardScaler, OrdinalEncoder\n",
        "\n",
        "# for fixing the imbalanced dataset and split\n",
        "from sklearn.model_selection import train_test_split\n",
        "from imblearn.under_sampling import RandomUnderSampler\n",
        "from imblearn.under_sampling import NearMiss\n",
        "from imblearn.over_sampling import SMOTE\n"
      ],
      "metadata": {
        "id": "LQQTLvwsmawV"
      },
      "execution_count": 3,
      "outputs": []
    },
    {
      "cell_type": "code",
      "source": [
        "df = pd.read_csv(\"diabetes_binary_health_indicators_BRFSS2015.csv\")"
      ],
      "metadata": {
        "id": "GACOSM5amgQe"
      },
      "execution_count": 4,
      "outputs": []
    },
    {
      "cell_type": "code",
      "source": [
        "#Drop duplications in dataframe\n",
        "df.drop_duplicates(inplace=True)"
      ],
      "metadata": {
        "id": "-M3u9KKZKNXp"
      },
      "execution_count": 5,
      "outputs": []
    },
    {
      "cell_type": "code",
      "source": [
        "for name in df.columns:\n",
        "    df[name] = df[name].astype(int)"
      ],
      "metadata": {
        "id": "xtCMoUrz8k6F"
      },
      "execution_count": 6,
      "outputs": []
    },
    {
      "cell_type": "code",
      "source": [
        "# drop column\n",
        "df = df.drop(['AnyHealthcare','Education'], axis=1);"
      ],
      "metadata": {
        "id": "IuJLPy_wTKh-"
      },
      "execution_count": 7,
      "outputs": []
    },
    {
      "cell_type": "code",
      "source": [
        "# grouped variables\n",
        "target = 'Diabetes_binary'\n",
        "bool_vars = (df.nunique()[df.nunique() == 2]\n",
        "                .index\n",
        "                .drop(labels='Diabetes_binary'))\n",
        "num_vars = [var for var in df.columns if var not in bool_vars and var != 'Diabetes_binary']"
      ],
      "metadata": {
        "id": "SIZ42H6cQdiq"
      },
      "execution_count": 8,
      "outputs": []
    },
    {
      "cell_type": "code",
      "source": [
        "print(df['Diabetes_binary'].value_counts(ascending=True))\n",
        "print(df['Diabetes_binary'].value_counts(1,ascending=True).apply(lambda x: format(x, '%')))\n",
        "print()\n",
        "df['Diabetes_binary'].value_counts(1).plot(kind='barh',figsize=(10, 2)).spines[['top', 'right']].set_visible(False);\n",
        "plt.title('Diabetes_binary Distribution (%)', fontsize=18)\n",
        "plt.yticks(ticks=[0,1], labels=['Non-Diabetic', 'Diabetic']);"
      ],
      "metadata": {
        "colab": {
          "base_uri": "https://localhost:8080/",
          "height": 398
        },
        "id": "fSwTiG1VQwZx",
        "outputId": "953d6456-8f53-4c0c-c247-6205430bceed"
      },
      "execution_count": 9,
      "outputs": [
        {
          "output_type": "stream",
          "name": "stdout",
          "text": [
            "1     35097\n",
            "0    194377\n",
            "Name: Diabetes_binary, dtype: int64\n",
            "1    15.294543%\n",
            "0    84.705457%\n",
            "Name: Diabetes_binary, dtype: object\n",
            "\n"
          ]
        },
        {
          "output_type": "display_data",
          "data": {
            "text/plain": [
              "<Figure size 1000x200 with 1 Axes>"
            ],
            "image/png": "[encoded data removed]"
          },
          "metadata": {}
        }
      ]
    },
    {
      "cell_type": "code",
      "source": [
        "from sklearn.utils import resample"
      ],
      "metadata": {
        "id": "XfMiuMXXTRc1"
      },
      "execution_count": 10,
      "outputs": []
    },
    {
      "cell_type": "code",
      "source": [
        "# deal with imbalance\n",
        "\n",
        "# Separate majority and minority classes\n",
        "df_majority = df[df.Diabetes_binary==0]\n",
        "df_minority = df[df.Diabetes_binary==1]\n",
        "\n",
        "# Downsample majority class\n",
        "df_majority_downsampled = resample(df_majority,\n",
        "                                 replace=False,    # sample without replacement\n",
        "                                 n_samples=35097,     # to match minority class\n",
        "                                 random_state=123) # reproducible results\n",
        "\n",
        "# Combine minority class with downsampled majority class\n",
        "df_downsampled = pd.concat([df_majority_downsampled, df_minority])"
      ],
      "metadata": {
        "id": "wFgU81LjTS0W"
      },
      "execution_count": 11,
      "outputs": []
    },
    {
      "cell_type": "code",
      "source": [
        "print(df_downsampled['Diabetes_binary'].value_counts(ascending=True))\n",
        "print(df_downsampled['Diabetes_binary'].value_counts(1,ascending=True).apply(lambda x: format(x, '%')))\n",
        "print()\n",
        "df_downsampled['Diabetes_binary'].value_counts(1).plot(kind='barh',figsize=(10, 2)).spines[['top', 'right']].set_visible(False);\n",
        "plt.title('Diabetes_binary Distribution (%)', fontsize=18)\n",
        "plt.yticks(ticks=[0,1], labels=['Non-Diabetic', 'Diabetic']);"
      ],
      "metadata": {
        "colab": {
          "base_uri": "https://localhost:8080/",
          "height": 398
        },
        "id": "HsFnhkuLTeso",
        "outputId": "248d4dfc-abb9-45c0-f5aa-8378afbcc662"
      },
      "execution_count": 12,
      "outputs": [
        {
          "output_type": "stream",
          "name": "stdout",
          "text": [
            "0    35097\n",
            "1    35097\n",
            "Name: Diabetes_binary, dtype: int64\n",
            "0    50.000000%\n",
            "1    50.000000%\n",
            "Name: Diabetes_binary, dtype: object\n",
            "\n"
          ]
        },
        {
          "output_type": "display_data",
          "data": {
            "text/plain": [
              "<Figure size 1000x200 with 1 Axes>"
            ],
            "image/png": "[encoded data removed]"
          },
          "metadata": {}
        }
      ]
    },
    {
      "cell_type": "code",
      "source": [
        "# bmi (bar chart)\n",
        "def tranform_bmi(x):\n",
        "    if x < 18.5 :\n",
        "        return 1\n",
        "    elif 18.5 <= x <= 24.9 :\n",
        "        return 2\n",
        "    elif 25 <= x <= 29.9 :\n",
        "        return 3\n",
        "    else:\n",
        "        return 4"
      ],
      "metadata": {
        "id": "3_7TzjcAAUl_"
      },
      "execution_count": 13,
      "outputs": []
    },
    {
      "cell_type": "code",
      "source": [
        "df_downsampled['BMI_bins'] = df_downsampled[\"BMI\"].apply(tranform_bmi)"
      ],
      "metadata": {
        "id": "LQEYVhAJLOmP"
      },
      "execution_count": 14,
      "outputs": []
    },
    {
      "cell_type": "code",
      "source": [
        "del df_downsampled[\"BMI\"]"
      ],
      "metadata": {
        "id": "XqJ5Q1pzXe6a"
      },
      "execution_count": 15,
      "outputs": []
    },
    {
      "cell_type": "code",
      "source": [
        "import numpy as np\n",
        "import pandas as pd\n",
        "import tensorflow as tf\n",
        "from sklearn.metrics import accuracy_score, confusion_matrix, f1_score, recall_score, precision_score\n",
        "from sklearn.preprocessing import StandardScaler\n",
        "from sklearn.model_selection import train_test_split\n",
        "from sklearn.metrics import classification_report\n",
        "from sklearn.model_selection import train_test_split, GridSearchCV"
      ],
      "metadata": {
        "id": "xK-PJos1s9M4"
      },
      "execution_count": 16,
      "outputs": []
    },
    {
      "cell_type": "code",
      "source": [
        "X = df_downsampled.iloc[:, 1:].values\n",
        "y = df_downsampled.iloc[:, 0].values"
      ],
      "metadata": {
        "id": "70CHfu-Xqgr-"
      },
      "execution_count": 17,
      "outputs": []
    },
    {
      "cell_type": "code",
      "source": [
        "X_train, X_test, y_train, y_test = train_test_split(X, y, test_size=0.2, random_state=42)"
      ],
      "metadata": {
        "id": "DsTkVtItqt4J"
      },
      "execution_count": 18,
      "outputs": []
    },
    {
      "cell_type": "code",
      "source": [
        "# Normalize the data\n",
        "scaler = StandardScaler()\n",
        "X_train_scaled = scaler.fit_transform(X_train)\n",
        "X_test_scaled = scaler.transform(X_test)"
      ],
      "metadata": {
        "id": "QyXd__RAq0NE"
      },
      "execution_count": 19,
      "outputs": []
    },
    {
      "cell_type": "code",
      "source": [
        "# Reshape the data for 1D CNN\n",
        "input_shape = (X_train_scaled.shape[1], 1)\n",
        "X_train_reshaped = X_train_scaled.reshape(-1, X_train_scaled.shape[1], 1)\n",
        "X_test_reshaped = X_test_scaled.reshape(-1, X_test_scaled.shape[1], 1)\n",
        "\n",
        "# Build the CNN model\n",
        "model = tf.keras.models.Sequential([\n",
        "    tf.keras.layers.Input(shape=input_shape),  # Input layer\n",
        "    tf.keras.layers.Conv1D(filters=32, kernel_size=3, activation='relu'),  # Convolutional layer\n",
        "    tf.keras.layers.MaxPooling1D(pool_size=2),  # MaxPooling layer\n",
        "    tf.keras.layers.Flatten(),  # Flatten the output\n",
        "    tf.keras.layers.Dense(64, activation='relu'),  # Hidden layer\n",
        "    tf.keras.layers.Dense(1, activation='sigmoid')  # Output layer\n",
        "])\n",
        "\n",
        "# Compile the model\n",
        "model.compile(optimizer='adam', loss='binary_crossentropy', metrics=['accuracy'])"
      ],
      "metadata": {
        "id": "m6H2NMnMrDaR"
      },
      "execution_count": 20,
      "outputs": []
    },
    {
      "cell_type": "code",
      "source": [
        "# Train the model\n",
        "model.fit(X_train_reshaped, y_train, epochs=10, batch_size=32, validation_data=(X_test_reshaped, y_test))"
      ],
      "metadata": {
        "colab": {
          "base_uri": "https://localhost:8080/"
        },
        "id": "DujiMV9VwP9O",
        "outputId": "d6e99294-e50f-43d4-f466-3bdc12bc73ad"
      },
      "execution_count": 21,
      "outputs": [
        {
          "output_type": "stream",
          "name": "stdout",
          "text": [
            "Epoch 1/10\n",
            "1755/1755 [==============================] - 7s 3ms/step - loss: 0.5516 - accuracy: 0.7180 - val_loss: 0.5588 - val_accuracy: 0.7152\n",
            "Epoch 2/10\n",
            "1755/1755 [==============================] - 6s 4ms/step - loss: 0.5448 - accuracy: 0.7213 - val_loss: 0.5437 - val_accuracy: 0.7216\n",
            "Epoch 3/10\n",
            "1755/1755 [==============================] - 5s 3ms/step - loss: 0.5435 - accuracy: 0.7210 - val_loss: 0.5445 - val_accuracy: 0.7256\n",
            "Epoch 4/10\n",
            "1755/1755 [==============================] - 5s 3ms/step - loss: 0.5419 - accuracy: 0.7227 - val_loss: 0.5403 - val_accuracy: 0.7268\n",
            "Epoch 5/10\n",
            "1755/1755 [==============================] - 10s 5ms/step - loss: 0.5413 - accuracy: 0.7232 - val_loss: 0.5412 - val_accuracy: 0.7278\n",
            "Epoch 6/10\n",
            "1755/1755 [==============================] - 5s 3ms/step - loss: 0.5402 - accuracy: 0.7241 - val_loss: 0.5388 - val_accuracy: 0.7266\n",
            "Epoch 7/10\n",
            "1755/1755 [==============================] - 6s 3ms/step - loss: 0.5395 - accuracy: 0.7240 - val_loss: 0.5397 - val_accuracy: 0.7246\n",
            "Epoch 8/10\n",
            "1755/1755 [==============================] - 7s 4ms/step - loss: 0.5389 - accuracy: 0.7258 - val_loss: 0.5439 - val_accuracy: 0.7218\n",
            "Epoch 9/10\n",
            "1755/1755 [==============================] - 5s 3ms/step - loss: 0.5384 - accuracy: 0.7255 - val_loss: 0.5400 - val_accuracy: 0.7250\n",
            "Epoch 10/10\n",
            "1755/1755 [==============================] - 6s 4ms/step - loss: 0.5378 - accuracy: 0.7265 - val_loss: 0.5372 - val_accuracy: 0.7272\n"
          ]
        },
        {
          "output_type": "execute_result",
          "data": {
            "text/plain": [
              "<keras.callbacks.History at 0x7ff741e5dc90>"
            ]
          },
          "metadata": {},
          "execution_count": 21
        }
      ]
    },
    {
      "cell_type": "code",
      "source": [
        "# Evaluate the model\n",
        "y_pred = model.predict(X_test_reshaped)\n",
        "y_pred_binary = (y_pred > 0.5).astype(int)\n",
        "accuracy = accuracy_score(y_test, y_pred_binary)\n",
        "pre = precision_score(y_test, y_pred_binary, average ='micro')\n",
        "recall = recall_score(y_test, y_pred_binary, average ='micro')\n",
        "f1 = f1_score(y_test, y_pred_binary, average ='micro')\n",
        "conf_matrix = confusion_matrix(y_test, y_pred_binary)\n",
        "\n",
        "print(\"CNN - Test Accuracy: {:.3f}.\".format(accuracy))\n",
        "print(\"CNN - Precision: {:.3f}.\".format(pre))\n",
        "print(\"CNN - Recall: {:.3f}.\".format(recall))\n",
        "print(\"CNN - F1_Score: {:.3f}.\".format(f1))\n",
        "print(\"Confusion Matrix:\\n\", conf_matrix)\n",
        "print(\"Classification_report\", classification_report(y_test, y_pred_binary))"
      ],
      "metadata": {
        "colab": {
          "base_uri": "https://localhost:8080/"
        },
        "id": "yxy7dNnpwtwn",
        "outputId": "7e3a3e69-eef8-43be-c057-47eb74233040"
      },
      "execution_count": 22,
      "outputs": [
        {
          "output_type": "stream",
          "name": "stdout",
          "text": [
            "439/439 [==============================] - 1s 1ms/step\n",
            "CNN - Test Accuracy: 0.727.\n",
            "CNN - Precision: 0.727.\n",
            "CNN - Recall: 0.727.\n",
            "CNN - F1_Score: 0.727.\n",
            "Confusion Matrix:\n",
            " [[4644 2368]\n",
            " [1462 5565]]\n",
            "Classification_report               precision    recall  f1-score   support\n",
            "\n",
            "           0       0.76      0.66      0.71      7012\n",
            "           1       0.70      0.79      0.74      7027\n",
            "\n",
            "    accuracy                           0.73     14039\n",
            "   macro avg       0.73      0.73      0.73     14039\n",
            "weighted avg       0.73      0.73      0.73     14039\n",
            "\n"
          ]
        }
      ]
    },
    {
      "cell_type": "code",
      "source": [
        "\n",
        "# Define the CNN model\n",
        "def create_cnn_model(filters=32, kernel_size=3, pool_size=2, units=64):\n",
        "    model = tf.keras.models.Sequential([\n",
        "        tf.keras.layers.Input(shape=input_shape),\n",
        "        tf.keras.layers.Conv1D(filters=filters, kernel_size=kernel_size, activation='relu'),\n",
        "        tf.keras.layers.MaxPooling1D(pool_size=pool_size),\n",
        "        tf.keras.layers.Flatten(),\n",
        "        tf.keras.layers.Dense(units, activation='relu'),\n",
        "        tf.keras.layers.Dense(1, activation='sigmoid')\n",
        "    ])\n",
        "    model.compile(optimizer='adam', loss='binary_crossentropy', metrics=['accuracy'])\n",
        "    return model"
      ],
      "metadata": {
        "id": "4xd0adniySxt"
      },
      "execution_count": 23,
      "outputs": []
    },
    {
      "cell_type": "code",
      "source": [
        "# Create the CNN model\n",
        "model = tf.keras.wrappers.scikit_learn.KerasClassifier(build_fn=create_cnn_model, epochs=2, batch_size=32, verbose=0)\n",
        "\n",
        "# Define the parameter grid for hyperparameter tuning\n",
        "param_grid = {\n",
        "    'filters': [16, 32, 64],\n",
        "    'kernel_size': [3, 5],\n",
        "    'pool_size': [2, 3],\n",
        "    'units': [32, 64, 128]\n",
        "}\n",
        "\n",
        "# Define the parameter grid for hyperparameter tuning\n",
        "# param_grid = {\n",
        "#     'filters': [32], #cant adjust\n",
        "#     'kernel_size': [5],\n",
        "#     'pool_size': [3],\n",
        "#     'units': [32]  #cant adjust\n",
        "# }\n"
      ],
      "metadata": {
        "colab": {
          "base_uri": "https://localhost:8080/"
        },
        "id": "-YDc3Ll0yUvB",
        "outputId": "11e58fc1-5810-4b69-c2b2-09cde3c59f0e"
      },
      "execution_count": 26,
      "outputs": [
        {
          "output_type": "stream",
          "name": "stderr",
          "text": [
            "<ipython-input-26-6d0ab6fa53ba>:2: DeprecationWarning: KerasClassifier is deprecated, use Sci-Keras (https://github.com/adriangb/scikeras) instead. See https://www.adriangb.com/scikeras/stable/migration.html for help migrating.\n",
            "  model = tf.keras.wrappers.scikit_learn.KerasClassifier(build_fn=create_cnn_model, epochs=2, batch_size=32, verbose=0)\n"
          ]
        }
      ]
    },
    {
      "cell_type": "code",
      "source": [
        "# Perform GridSearchCV for hyperparameter tuning\n",
        "grid_search = GridSearchCV(estimator=model, param_grid=param_grid, cv=3)\n",
        "grid_result = grid_search.fit(X_train_reshaped, y_train)\n",
        "\n",
        "# Get the best model\n",
        "best_model = grid_result.best_estimator_\n",
        "results_summary = pd.DataFrame(grid_result.cv_results_).sort_values(by='rank_test_score').head(10)\n",
        "results_summary"
      ],
      "metadata": {
        "colab": {
          "base_uri": "https://localhost:8080/",
          "height": 1000
        },
        "id": "ZurXdskjyYm9",
        "outputId": "2800ac61-11bd-4227-f467-f9ce035177af"
      },
      "execution_count": 35,
      "outputs": [
        {
          "output_type": "execute_result",
          "data": {
            "text/plain": [
              "    mean_fit_time  std_fit_time  mean_score_time  std_score_time  \\\n",
              "34      11.621024      0.260657         1.800393        0.420257   \n",
              "35       8.759313      2.092678         1.317273        0.218850   \n",
              "11       6.887410      0.765607         1.499925        0.026146   \n",
              "21       7.784369      2.517161         0.951458        0.054111   \n",
              "22       5.948583      0.241481         1.520730        0.043528   \n",
              "33       6.442892      0.717867         1.473531        0.007752   \n",
              "9        6.104086      0.021866         1.521786        0.047029   \n",
              "23       9.594416      2.304208         1.275269        0.251507   \n",
              "10       7.731839      2.399313         1.534731        0.106680   \n",
              "18       6.697254      0.699089         1.390026        0.131376   \n",
              "\n",
              "   param_filters param_kernel_size param_pool_size param_units  \\\n",
              "34            64                 5               3          64   \n",
              "35            64                 5               3         128   \n",
              "11            16                 5               3         128   \n",
              "21            32                 5               3          32   \n",
              "22            32                 5               3          64   \n",
              "33            64                 5               3          32   \n",
              "9             16                 5               3          32   \n",
              "23            32                 5               3         128   \n",
              "10            16                 5               3          64   \n",
              "18            32                 5               2          32   \n",
              "\n",
              "                                               params  split0_test_score  \\\n",
              "34  {'filters': 64, 'kernel_size': 5, 'pool_size':...           0.728351   \n",
              "35  {'filters': 64, 'kernel_size': 5, 'pool_size':...           0.727015   \n",
              "11  {'filters': 16, 'kernel_size': 5, 'pool_size':...           0.726214   \n",
              "21  {'filters': 32, 'kernel_size': 5, 'pool_size':...           0.721994   \n",
              "22  {'filters': 32, 'kernel_size': 5, 'pool_size':...           0.724825   \n",
              "33  {'filters': 64, 'kernel_size': 5, 'pool_size':...           0.725359   \n",
              "9   {'filters': 16, 'kernel_size': 5, 'pool_size':...           0.725680   \n",
              "23  {'filters': 32, 'kernel_size': 5, 'pool_size':...           0.724184   \n",
              "10  {'filters': 16, 'kernel_size': 5, 'pool_size':...           0.721940   \n",
              "18  {'filters': 32, 'kernel_size': 5, 'pool_size':...           0.722154   \n",
              "\n",
              "    split1_test_score  split2_test_score  mean_test_score  std_test_score  \\\n",
              "34           0.732717           0.726466         0.729178        0.002618   \n",
              "35           0.731435           0.728817         0.729089        0.001815   \n",
              "11           0.731809           0.727108         0.728377        0.002454   \n",
              "21           0.728123           0.728443         0.726187        0.002968   \n",
              "22           0.727108           0.725879         0.725937        0.000933   \n",
              "33           0.733038           0.718987         0.725795        0.005744   \n",
              "9            0.726573           0.724650         0.725634        0.000786   \n",
              "23           0.729191           0.722994         0.725456        0.002685   \n",
              "10           0.729031           0.724062         0.725011        0.002971   \n",
              "18           0.723795           0.720910         0.722287        0.001181   \n",
              "\n",
              "    rank_test_score  \n",
              "34                1  \n",
              "35                2  \n",
              "11                3  \n",
              "21                4  \n",
              "22                5  \n",
              "33                6  \n",
              "9                 7  \n",
              "23                8  \n",
              "10                9  \n",
              "18               10  "
            ],
            "text/html": [
              "\n",
              "\n",
              "  <div id=\"df-ffd9ca2f-c747-46e7-95e6-ad177748d465\">\n",
              "    <div class=\"colab-df-container\">\n",
              "      <div>\n",
              "<style scoped>\n",
              "    .dataframe tbody tr th:only-of-type {\n",
              "        vertical-align: middle;\n",
              "    }\n",
              "\n",
              "    .dataframe tbody tr th {\n",
              "        vertical-align: top;\n",
              "    }\n",
              "\n",
              "    .dataframe thead th {\n",
              "        text-align: right;\n",
              "    }\n",
              "</style>\n",
              "<table border=\"1\" class=\"dataframe\">\n",
              "  <thead>\n",
              "    <tr style=\"text-align: right;\">\n",
              "      <th></th>\n",
              "      <th>mean_fit_time</th>\n",
              "      <th>std_fit_time</th>\n",
              "      <th>mean_score_time</th>\n",
              "      <th>std_score_time</th>\n",
              "      <th>param_filters</th>\n",
              "      <th>param_kernel_size</th>\n",
              "      <th>param_pool_size</th>\n",
              "      <th>param_units</th>\n",
              "      <th>params</th>\n",
              "      <th>split0_test_score</th>\n",
              "      <th>split1_test_score</th>\n",
              "      <th>split2_test_score</th>\n",
              "      <th>mean_test_score</th>\n",
              "      <th>std_test_score</th>\n",
              "      <th>rank_test_score</th>\n",
              "    </tr>\n",
              "  </thead>\n",
              "  <tbody>\n",
              "    <tr>\n",
              "      <th>34</th>\n",
              "      <td>11.621024</td>\n",
              "      <td>0.260657</td>\n",
              "      <td>1.800393</td>\n",
              "      <td>0.420257</td>\n",
              "      <td>64</td>\n",
              "      <td>5</td>\n",
              "      <td>3</td>\n",
              "      <td>64</td>\n",
              "      <td>{'filters': 64, 'kernel_size': 5, 'pool_size':...</td>\n",
              "      <td>0.728351</td>\n",
              "      <td>0.732717</td>\n",
              "      <td>0.726466</td>\n",
              "      <td>0.729178</td>\n",
              "      <td>0.002618</td>\n",
              "      <td>1</td>\n",
              "    </tr>\n",
              "    <tr>\n",
              "      <th>35</th>\n",
              "      <td>8.759313</td>\n",
              "      <td>2.092678</td>\n",
              "      <td>1.317273</td>\n",
              "      <td>0.218850</td>\n",
              "      <td>64</td>\n",
              "      <td>5</td>\n",
              "      <td>3</td>\n",
              "      <td>128</td>\n",
              "      <td>{'filters': 64, 'kernel_size': 5, 'pool_size':...</td>\n",
              "      <td>0.727015</td>\n",
              "      <td>0.731435</td>\n",
              "      <td>0.728817</td>\n",
              "      <td>0.729089</td>\n",
              "      <td>0.001815</td>\n",
              "      <td>2</td>\n",
              "    </tr>\n",
              "    <tr>\n",
              "      <th>11</th>\n",
              "      <td>6.887410</td>\n",
              "      <td>0.765607</td>\n",
              "      <td>1.499925</td>\n",
              "      <td>0.026146</td>\n",
              "      <td>16</td>\n",
              "      <td>5</td>\n",
              "      <td>3</td>\n",
              "      <td>128</td>\n",
              "      <td>{'filters': 16, 'kernel_size': 5, 'pool_size':...</td>\n",
              "      <td>0.726214</td>\n",
              "      <td>0.731809</td>\n",
              "      <td>0.727108</td>\n",
              "      <td>0.728377</td>\n",
              "      <td>0.002454</td>\n",
              "      <td>3</td>\n",
              "    </tr>\n",
              "    <tr>\n",
              "      <th>21</th>\n",
              "      <td>7.784369</td>\n",
              "      <td>2.517161</td>\n",
              "      <td>0.951458</td>\n",
              "      <td>0.054111</td>\n",
              "      <td>32</td>\n",
              "      <td>5</td>\n",
              "      <td>3</td>\n",
              "      <td>32</td>\n",
              "      <td>{'filters': 32, 'kernel_size': 5, 'pool_size':...</td>\n",
              "      <td>0.721994</td>\n",
              "      <td>0.728123</td>\n",
              "      <td>0.728443</td>\n",
              "      <td>0.726187</td>\n",
              "      <td>0.002968</td>\n",
              "      <td>4</td>\n",
              "    </tr>\n",
              "    <tr>\n",
              "      <th>22</th>\n",
              "      <td>5.948583</td>\n",
              "      <td>0.241481</td>\n",
              "      <td>1.520730</td>\n",
              "      <td>0.043528</td>\n",
              "      <td>32</td>\n",
              "      <td>5</td>\n",
              "      <td>3</td>\n",
              "      <td>64</td>\n",
              "      <td>{'filters': 32, 'kernel_size': 5, 'pool_size':...</td>\n",
              "      <td>0.724825</td>\n",
              "      <td>0.727108</td>\n",
              "      <td>0.725879</td>\n",
              "      <td>0.725937</td>\n",
              "      <td>0.000933</td>\n",
              "      <td>5</td>\n",
              "    </tr>\n",
              "    <tr>\n",
              "      <th>33</th>\n",
              "      <td>6.442892</td>\n",
              "      <td>0.717867</td>\n",
              "      <td>1.473531</td>\n",
              "      <td>0.007752</td>\n",
              "      <td>64</td>\n",
              "      <td>5</td>\n",
              "      <td>3</td>\n",
              "      <td>32</td>\n",
              "      <td>{'filters': 64, 'kernel_size': 5, 'pool_size':...</td>\n",
              "      <td>0.725359</td>\n",
              "      <td>0.733038</td>\n",
              "      <td>0.718987</td>\n",
              "      <td>0.725795</td>\n",
              "      <td>0.005744</td>\n",
              "      <td>6</td>\n",
              "    </tr>\n",
              "    <tr>\n",
              "      <th>9</th>\n",
              "      <td>6.104086</td>\n",
              "      <td>0.021866</td>\n",
              "      <td>1.521786</td>\n",
              "      <td>0.047029</td>\n",
              "      <td>16</td>\n",
              "      <td>5</td>\n",
              "      <td>3</td>\n",
              "      <td>32</td>\n",
              "      <td>{'filters': 16, 'kernel_size': 5, 'pool_size':...</td>\n",
              "      <td>0.725680</td>\n",
              "      <td>0.726573</td>\n",
              "      <td>0.724650</td>\n",
              "      <td>0.725634</td>\n",
              "      <td>0.000786</td>\n",
              "      <td>7</td>\n",
              "    </tr>\n",
              "    <tr>\n",
              "      <th>23</th>\n",
              "      <td>9.594416</td>\n",
              "      <td>2.304208</td>\n",
              "      <td>1.275269</td>\n",
              "      <td>0.251507</td>\n",
              "      <td>32</td>\n",
              "      <td>5</td>\n",
              "      <td>3</td>\n",
              "      <td>128</td>\n",
              "      <td>{'filters': 32, 'kernel_size': 5, 'pool_size':...</td>\n",
              "      <td>0.724184</td>\n",
              "      <td>0.729191</td>\n",
              "      <td>0.722994</td>\n",
              "      <td>0.725456</td>\n",
              "      <td>0.002685</td>\n",
              "      <td>8</td>\n",
              "    </tr>\n",
              "    <tr>\n",
              "      <th>10</th>\n",
              "      <td>7.731839</td>\n",
              "      <td>2.399313</td>\n",
              "      <td>1.534731</td>\n",
              "      <td>0.106680</td>\n",
              "      <td>16</td>\n",
              "      <td>5</td>\n",
              "      <td>3</td>\n",
              "      <td>64</td>\n",
              "      <td>{'filters': 16, 'kernel_size': 5, 'pool_size':...</td>\n",
              "      <td>0.721940</td>\n",
              "      <td>0.729031</td>\n",
              "      <td>0.724062</td>\n",
              "      <td>0.725011</td>\n",
              "      <td>0.002971</td>\n",
              "      <td>9</td>\n",
              "    </tr>\n",
              "    <tr>\n",
              "      <th>18</th>\n",
              "      <td>6.697254</td>\n",
              "      <td>0.699089</td>\n",
              "      <td>1.390026</td>\n",
              "      <td>0.131376</td>\n",
              "      <td>32</td>\n",
              "      <td>5</td>\n",
              "      <td>2</td>\n",
              "      <td>32</td>\n",
              "      <td>{'filters': 32, 'kernel_size': 5, 'pool_size':...</td>\n",
              "      <td>0.722154</td>\n",
              "      <td>0.723795</td>\n",
              "      <td>0.720910</td>\n",
              "      <td>0.722287</td>\n",
              "      <td>0.001181</td>\n",
              "      <td>10</td>\n",
              "    </tr>\n",
              "  </tbody>\n",
              "</table>\n",
              "</div>\n",
              "      <button class=\"colab-df-convert\" onclick=\"convertToInteractive('df-ffd9ca2f-c747-46e7-95e6-ad177748d465')\"\n",
              "              title=\"Convert this dataframe to an interactive table.\"\n",
              "              style=\"display:none;\">\n",
              "\n",
              "  <svg xmlns=\"http://www.w3.org/2000/svg\" height=\"24px\"viewBox=\"0 0 24 24\"\n",
              "       width=\"24px\">\n",
              "    <path d=\"M0 0h24v24H0V0z\" fill=\"none\"/>\n",
              "    <path d=\"M18.56 5.44l.94 2.06.94-2.06 2.06-.94-2.06-.94-.94-2.06-.94 2.06-2.06.94zm-11 1L8.5 8.5l.94-2.06 2.06-.94-2.06-.94L8.5 2.5l-.94 2.06-2.06.94zm10 10l.94 2.06.94-2.06 2.06-.94-2.06-.94-.94-2.06-.94 2.06-2.06.94z\"/><path d=\"M17.41 7.96l-1.37-1.37c-.4-.4-.92-.59-1.43-.59-.52 0-1.04.2-1.43.59L10.3 9.45l-7.72 7.72c-.78.78-.78 2.05 0 2.83L4 21.41c.39.39.9.59 1.41.59.51 0 1.02-.2 1.41-.59l7.78-7.78 2.81-2.81c.8-.78.8-2.07 0-2.86zM5.41 20L4 18.59l7.72-7.72 1.47 1.35L5.41 20z\"/>\n",
              "  </svg>\n",
              "      </button>\n",
              "\n",
              "\n",
              "\n",
              "    <div id=\"df-19092fe3-8e71-425c-b8c4-28dcd4d1c043\">\n",
              "      <button class=\"colab-df-quickchart\" onclick=\"quickchart('df-19092fe3-8e71-425c-b8c4-28dcd4d1c043')\"\n",
              "              title=\"Suggest charts.\"\n",
              "              style=\"display:none;\">\n",
              "\n",
              "<svg xmlns=\"http://www.w3.org/2000/svg\" height=\"24px\"viewBox=\"0 0 24 24\"\n",
              "     width=\"24px\">\n",
              "    <g>\n",
              "        <path d=\"M19 3H5c-1.1 0-2 .9-2 2v14c0 1.1.9 2 2 2h14c1.1 0 2-.9 2-2V5c0-1.1-.9-2-2-2zM9 17H7v-7h2v7zm4 0h-2V7h2v10zm4 0h-2v-4h2v4z\"/>\n",
              "    </g>\n",
              "</svg>\n",
              "      </button>\n",
              "    </div>\n",
              "\n",
              "<style>\n",
              "  .colab-df-quickchart {\n",
              "    background-color: #E8F0FE;\n",
              "    border: none;\n",
              "    border-radius: 50%;\n",
              "    cursor: pointer;\n",
              "    display: none;\n",
              "    fill: #1967D2;\n",
              "    height: 32px;\n",
              "    padding: 0 0 0 0;\n",
              "    width: 32px;\n",
              "  }\n",
              "\n",
              "  .colab-df-quickchart:hover {\n",
              "    background-color: #E2EBFA;\n",
              "    box-shadow: 0px 1px 2px rgba(60, 64, 67, 0.3), 0px 1px 3px 1px rgba(60, 64, 67, 0.15);\n",
              "    fill: #174EA6;\n",
              "  }\n",
              "\n",
              "  [theme=dark] .colab-df-quickchart {\n",
              "    background-color: #3B4455;\n",
              "    fill: #D2E3FC;\n",
              "  }\n",
              "\n",
              "  [theme=dark] .colab-df-quickchart:hover {\n",
              "    background-color: #434B5C;\n",
              "    box-shadow: 0px 1px 3px 1px rgba(0, 0, 0, 0.15);\n",
              "    filter: drop-shadow(0px 1px 2px rgba(0, 0, 0, 0.3));\n",
              "    fill: #FFFFFF;\n",
              "  }\n",
              "</style>\n",
              "\n",
              "    <script>\n",
              "      async function quickchart(key) {\n",
              "        const containerElement = document.querySelector('#' + key);\n",
              "        const charts = await google.colab.kernel.invokeFunction(\n",
              "            'suggestCharts', [key], {});\n",
              "      }\n",
              "    </script>\n",
              "\n",
              "      <script>\n",
              "\n",
              "function displayQuickchartButton(domScope) {\n",
              "  let quickchartButtonEl =\n",
              "    domScope.querySelector('#df-19092fe3-8e71-425c-b8c4-28dcd4d1c043 button.colab-df-quickchart');\n",
              "  quickchartButtonEl.style.display =\n",
              "    google.colab.kernel.accessAllowed ? 'block' : 'none';\n",
              "}\n",
              "\n",
              "        displayQuickchartButton(document);\n",
              "      </script>\n",
              "      <style>\n",
              "    .colab-df-container {\n",
              "      display:flex;\n",
              "      flex-wrap:wrap;\n",
              "      gap: 12px;\n",
              "    }\n",
              "\n",
              "    .colab-df-convert {\n",
              "      background-color: #E8F0FE;\n",
              "      border: none;\n",
              "      border-radius: 50%;\n",
              "      cursor: pointer;\n",
              "      display: none;\n",
              "      fill: #1967D2;\n",
              "      height: 32px;\n",
              "      padding: 0 0 0 0;\n",
              "      width: 32px;\n",
              "    }\n",
              "\n",
              "    .colab-df-convert:hover {\n",
              "      background-color: #E2EBFA;\n",
              "      box-shadow: 0px 1px 2px rgba(60, 64, 67, 0.3), 0px 1px 3px 1px rgba(60, 64, 67, 0.15);\n",
              "      fill: #174EA6;\n",
              "    }\n",
              "\n",
              "    [theme=dark] .colab-df-convert {\n",
              "      background-color: #3B4455;\n",
              "      fill: #D2E3FC;\n",
              "    }\n",
              "\n",
              "    [theme=dark] .colab-df-convert:hover {\n",
              "      background-color: #434B5C;\n",
              "      box-shadow: 0px 1px 3px 1px rgba(0, 0, 0, 0.15);\n",
              "      filter: drop-shadow(0px 1px 2px rgba(0, 0, 0, 0.3));\n",
              "      fill: #FFFFFF;\n",
              "    }\n",
              "  </style>\n",
              "\n",
              "      <script>\n",
              "        const buttonEl =\n",
              "          document.querySelector('#df-ffd9ca2f-c747-46e7-95e6-ad177748d465 button.colab-df-convert');\n",
              "        buttonEl.style.display =\n",
              "          google.colab.kernel.accessAllowed ? 'block' : 'none';\n",
              "\n",
              "        async function convertToInteractive(key) {\n",
              "          const element = document.querySelector('#df-ffd9ca2f-c747-46e7-95e6-ad177748d465');\n",
              "          const dataTable =\n",
              "            await google.colab.kernel.invokeFunction('convertToInteractive',\n",
              "                                                     [key], {});\n",
              "          if (!dataTable) return;\n",
              "\n",
              "          const docLinkHtml = 'Like what you see? Visit the ' +\n",
              "            '<a target=\"_blank\" href=https://colab.research.google.com/notebooks/data_table.ipynb>data table notebook</a>'\n",
              "            + ' to learn more about interactive tables.';\n",
              "          element.innerHTML = '';\n",
              "          dataTable['output_type'] = 'display_data';\n",
              "          await google.colab.output.renderOutput(dataTable, element);\n",
              "          const docLink = document.createElement('div');\n",
              "          docLink.innerHTML = docLinkHtml;\n",
              "          element.appendChild(docLink);\n",
              "        }\n",
              "      </script>\n",
              "    </div>\n",
              "  </div>\n"
            ]
          },
          "metadata": {},
          "execution_count": 35
        }
      ]
    },
    {
      "cell_type": "code",
      "source": [
        "# Create the CNN model\n",
        "model = tf.keras.wrappers.scikit_learn.KerasClassifier(build_fn=create_cnn_model, epochs=10, batch_size=32, verbose=0)\n",
        "\n",
        "# Define the parameter grid for hyperparameter tuning\n",
        "param_grid = {\n",
        "    'filters': [16, 32, 64],\n",
        "    'kernel_size': [3, 5],\n",
        "    'pool_size': [2, 3],\n",
        "    'units': [32, 64, 128]\n",
        "}\n",
        "\n",
        "\n",
        "# Perform GridSearchCV for hyperparameter tuning\n",
        "grid_search = GridSearchCV(estimator=model, param_grid=param_grid, cv=3)\n",
        "grid_result = grid_search.fit(X_train_reshaped, y_train)\n",
        "\n",
        "# Get the best model\n",
        "best_model = grid_result.best_estimator_\n",
        "results_summary = pd.DataFrame(grid_result.cv_results_).sort_values(by='rank_test_score').head(10)\n",
        "results_summary"
      ],
      "metadata": {
        "id": "GFeq4YFsgW0G"
      },
      "execution_count": null,
      "outputs": []
    },
    {
      "cell_type": "code",
      "source": [
        "\n",
        "# Evaluate the model\n",
        "y_pred = best_model.predict(X_test_reshaped)\n",
        "y_pred_binary = (y_pred > 0.5).astype(int)\n",
        "accuracy = accuracy_score(y_test, y_pred_binary)\n",
        "pre = precision_score(y_test, y_pred_binary, average ='micro')\n",
        "recall = recall_score(y_test, y_pred_binary, average ='micro')\n",
        "f1 = f1_score(y_test, y_pred_binary, average ='micro')\n",
        "conf_matrix = confusion_matrix(y_test, y_pred_binary)\n",
        "\n",
        "print(\"CNN - Test Accuracy: {:.3f}.\".format(accuracy))\n",
        "print(\"CNN - Precision: {:.3f}.\".format(pre))\n",
        "print(\"CNN - Recall: {:.3f}.\".format(recall))\n",
        "print(\"CNN - F1_Score: {:.3f}.\".format(f1))\n",
        "print(\"Confusion Matrix:\\n\", conf_matrix)\n",
        "print(\"Classification_report\", classification_report(y_test, y_pred_binary))"
      ],
      "metadata": {
        "colab": {
          "base_uri": "https://localhost:8080/"
        },
        "id": "pTerL0AN-CM_",
        "outputId": "ccc9d023-2bc9-43a7-c522-bb6e8b752425"
      },
      "execution_count": 34,
      "outputs": [
        {
          "output_type": "stream",
          "name": "stdout",
          "text": [
            "439/439 [==============================] - 1s 2ms/step\n",
            "CNN - Test Accuracy: 0.727.\n",
            "CNN - Precision: 0.727.\n",
            "CNN - Recall: 0.727.\n",
            "CNN - F1_Score: 0.727.\n",
            "Confusion Matrix:\n",
            " [[5097 1915]\n",
            " [1924 5103]]\n",
            "Classification_report               precision    recall  f1-score   support\n",
            "\n",
            "           0       0.73      0.73      0.73      7012\n",
            "           1       0.73      0.73      0.73      7027\n",
            "\n",
            "    accuracy                           0.73     14039\n",
            "   macro avg       0.73      0.73      0.73     14039\n",
            "weighted avg       0.73      0.73      0.73     14039\n",
            "\n"
          ]
        }
      ]
    }
  ]
}